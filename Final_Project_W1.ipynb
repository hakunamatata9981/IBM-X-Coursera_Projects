{
 "cells": [
  {
   "cell_type": "markdown",
   "metadata": {},
   "source": [
    "### Backgroud:\n",
    "\n",
    "_\"If there is a new Starbuck store opening in the area, you can expect a growth in the area's house price\"_\n",
    "\n",
    "There is this saying in countries I stayed before. This projecct is to examine if there exist a venue effect on Manhattan house price. The people who will have interest in this topic will be potential real estate investors and home buyers.\n",
    "\n",
    "### Data being used:\n",
    "* 1. Fousquare API for finding venues in a district\n",
    "* 2. NYC house price from 2013 - 2018 download from NYC.gov, there is a reason that 2019 - 2020 is not include here, due to COVID - 19."
   ]
  }
 ],
 "metadata": {
  "kernelspec": {
   "display_name": "Python 3",
   "language": "python",
   "name": "python3"
  },
  "language_info": {
   "codemirror_mode": {
    "name": "ipython",
    "version": 3
   },
   "file_extension": ".py",
   "mimetype": "text/x-python",
   "name": "python",
   "nbconvert_exporter": "python",
   "pygments_lexer": "ipython3",
   "version": "3.7.3"
  }
 },
 "nbformat": 4,
 "nbformat_minor": 4
}
